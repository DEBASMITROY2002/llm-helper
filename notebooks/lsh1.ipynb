{
 "cells": [
  {
   "cell_type": "code",
   "execution_count": 21,
   "metadata": {},
   "outputs": [],
   "source": [
    "import numpy as np\n",
    "from sklearn.feature_extraction.text import TfidfVectorizer\n",
    "from sklearn.preprocessing import Binarizer\n",
    "import faiss"
   ]
  },
  {
   "cell_type": "code",
   "execution_count": 1,
   "metadata": {},
   "outputs": [],
   "source": [
    "# Sample list of documents (strings)\n",
    "documents = [\n",
    "    \"Document one is here.\",\n",
    "    \"This is the second document.\",\n",
    "    \"And this is document number three.\",\n",
    "    # Add more documents here...\n",
    "]\n",
    "\n",
    "# Step 1: Convert documents to TF-IDF vectors\n",
    "vectorizer = TfidfVectorizer(max_features=128)  # Limit to 128 features for LSH compatibility\n",
    "tfidf_matrix = vectorizer.fit_transform(documents)"
   ]
  },
  {
   "cell_type": "code",
   "execution_count": 3,
   "metadata": {},
   "outputs": [],
   "source": [
    "# Step 2: Convert TF-IDF vectors to binary format\n",
    "# Binarize the TF-IDF matrix to get binary vectors (0s and 1s)\n",
    "binarizer = Binarizer(threshold=0.0)  # Convert non-zero values to 1\n",
    "binary_vectors = binarizer.transform(tfidf_matrix).toarray().astype('float32')"
   ]
  },
  {
   "cell_type": "code",
   "execution_count": 22,
   "metadata": {},
   "outputs": [
    {
     "name": "stdout",
     "output_type": "stream",
     "text": [
      "Document 0: [0. 1. 1. 1. 0. 1. 0. 0. 0. 0.]\n",
      "Document 1: [0. 1. 0. 1. 0. 0. 1. 1. 1. 0.]\n",
      "Document 2: [1. 1. 0. 1. 1. 0. 0. 0. 1. 1.]\n"
     ]
    }
   ],
   "source": [
    "for i, binary_vector in enumerate(binary_vectors):\n",
    "    print(f\"Document {i}:\", binary_vector)"
   ]
  },
  {
   "cell_type": "code",
   "execution_count": 5,
   "metadata": {},
   "outputs": [],
   "source": [
    "# Step 3: Create FAISS LSH Index\n",
    "d = binary_vectors.shape[1]  # Dimensionality of the vectors\n",
    "num_bits = 64  # Number of bits to use in LSH, can adjust based on preference"
   ]
  },
  {
   "cell_type": "code",
   "execution_count": 6,
   "metadata": {},
   "outputs": [],
   "source": [
    "# Initialize the FAISS LSH index\n",
    "index = faiss.IndexLSH(d, num_bits)\n",
    "\n",
    "# Add binary vectors to the index\n",
    "index.add(binary_vectors)"
   ]
  },
  {
   "cell_type": "code",
   "execution_count": 23,
   "metadata": {},
   "outputs": [
    {
     "name": "stdout",
     "output_type": "stream",
     "text": [
      "Query Document: [0. 1. 1. 1. 0. 0. 1. 0. 0. 0.]\n"
     ]
    }
   ],
   "source": [
    "# Step 4: Perform a search\n",
    "# Convert a sample document into binary vector to search\n",
    "query_doc = \"second document is here.\"  # Sample query document\n",
    "query_vector = vectorizer.transform([query_doc]).toarray().astype('float32')\n",
    "query_binary = binarizer.transform(query_vector)\n",
    "print(\"Query Document:\", query_binary[0])"
   ]
  },
  {
   "cell_type": "code",
   "execution_count": 18,
   "metadata": {},
   "outputs": [],
   "source": [
    "# Search for the top 3 nearest neighbors\n",
    "k = 3\n",
    "distances, indices = index.search(query_binary, k)"
   ]
  },
  {
   "cell_type": "code",
   "execution_count": 19,
   "metadata": {},
   "outputs": [
    {
     "name": "stdout",
     "output_type": "stream",
     "text": [
      "Nearest neighbors indices: [[0 1 2]]\n",
      "Distances: [[10. 12. 23.]]\n",
      "Similar documents:\n",
      "Document one is here.\n",
      "This is the second document.\n",
      "And this is document number three.\n"
     ]
    }
   ],
   "source": [
    "# Output results\n",
    "print(\"Nearest neighbors indices:\", indices)\n",
    "print(\"Distances:\", distances)\n",
    "print(\"Similar documents:\")\n",
    "for i in indices[0]:\n",
    "    if i != -1:  # Ignore -1, which indicates no result found\n",
    "        print(documents[i])\n"
   ]
  },
  {
   "cell_type": "code",
   "execution_count": null,
   "metadata": {},
   "outputs": [],
   "source": []
  },
  {
   "cell_type": "code",
   "execution_count": null,
   "metadata": {},
   "outputs": [],
   "source": []
  }
 ],
 "metadata": {
  "kernelspec": {
   "display_name": ".myenv",
   "language": "python",
   "name": "python3"
  },
  "language_info": {
   "codemirror_mode": {
    "name": "ipython",
    "version": 3
   },
   "file_extension": ".py",
   "mimetype": "text/x-python",
   "name": "python",
   "nbconvert_exporter": "python",
   "pygments_lexer": "ipython3",
   "version": "3.12.0"
  }
 },
 "nbformat": 4,
 "nbformat_minor": 2
}
